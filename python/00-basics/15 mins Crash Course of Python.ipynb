{
 "cells": [
  {
   "cell_type": "markdown",
   "metadata": {},
   "source": [
    "# 15 mins Crash Course of Python"
   ]
  },
  {
   "cell_type": "markdown",
   "metadata": {},
   "source": [
    "This is interactive notebook using [Jupyter](http://jupyter.org/). Download and Install Python [from here](https://www.python.org/downloads/) . In this notebook we will cover:\n",
    "\n",
    "## Topics covered\n",
    "\n",
    "1. Variables & Printing\n",
    "1. String formatting using `f-strings`\n",
    "1. Creating and calling functions\n",
    "1. Basic datastructures\n",
    "1. Loops & Conditional statements\n",
    "1. Simple File I/O\n",
    "1. Core modules `os`, `sys` and `collections`\n",
    "1. Object Oriented Programming Basics\n",
    "1. Working with dates and times\n",
    "1. Regular expressions using `re` module\n",
    "1. Unit testing with `unittest` module\n",
    "\n",
    "## Few things to remember\n",
    "\n",
    "1. Python is sensitive to indentation, if you don't get it right you will get `IndentationError`\n",
    "1. Python has two main versions `2.7` and `3.0+` {reffered to as Py3k}. Start migrating to Python 3\n",
    "1. In Python dynamically typed languages {what this means is you don't need to specify data types}. [mypy](http://mypy-lang.org/) is a step in direction of introducing types in Python\n",
    "1. Python is [Garbage Collected](https://docs.python.org/3/library/gc.html)\n",
    "1. ALWAYS write [PEP8 compliant](https://www.python.org/dev/peps/pep-0008/) code\n",
    "1. `EVERYTHING` in Python is an `Object`\n",
    "\n",
    "## References\n",
    "\n",
    "1. [Python official document](https://docs.python.org/3/)\n",
    "1. [Python Standard Library](http://www.effbot.org/zone/librarybook-index.htm)\n",
    "1. [Python Cookbook](http://code.activestate.com/recipes/langs/python/)"
   ]
  },
  {
   "cell_type": "markdown",
   "metadata": {},
   "source": [
    "## Variables & Printing"
   ]
  },
  {
   "cell_type": "code",
   "execution_count": 3,
   "metadata": {},
   "outputs": [
    {
     "name": "stdout",
     "output_type": "stream",
     "text": [
      "Sidharth Shah\n",
      "30\n"
     ]
    }
   ],
   "source": [
    "name = \"Sidharth Shah\"\n",
    "age = 30\n",
    "\n",
    "print(name)\n",
    "print(age)"
   ]
  },
  {
   "cell_type": "markdown",
   "metadata": {},
   "source": [
    "## String formatting using f-strings"
   ]
  },
  {
   "cell_type": "markdown",
   "metadata": {},
   "source": [
    "Read more on [f-strings](https://cito.github.io/blog/f-strings/), be sure to checkout the benchmark towards end of the article. Lets look at few examples:"
   ]
  },
  {
   "cell_type": "code",
   "execution_count": 4,
   "metadata": {},
   "outputs": [
    {
     "name": "stdout",
     "output_type": "stream",
     "text": [
      "Hello Sidharth Shah!\n",
      "Sidharth Shah is 30 years old\n"
     ]
    }
   ],
   "source": [
    "# Note: Starting python 3 print is a function\n",
    "print(\"Hello %s!\"% name)\n",
    "\n",
    "# Example of using f-strings in Python\n",
    "print(f\"{name} is {age} years old\")"
   ]
  },
  {
   "cell_type": "markdown",
   "metadata": {},
   "source": [
    "## Creating and calling functions\n",
    "\n",
    "`def` keyword is used to create a function. Following are some ways in which we can call functions"
   ]
  },
  {
   "cell_type": "code",
   "execution_count": 5,
   "metadata": {},
   "outputs": [
    {
     "name": "stdout",
     "output_type": "stream",
     "text": [
      "This is a simple function that prints bunch of lines\n",
      " See how easy it is\n",
      "101\n",
      "(4, 9)\n"
     ]
    }
   ],
   "source": [
    "# a function without arguments or return types\n",
    "def simple_function():\n",
    "    print(\"This is a simple function that prints bunch of lines\\n See how easy it is\")\n",
    "    \n",
    "# this is a function with arguments and return types\n",
    "def add(a, b):\n",
    "    return a + b\n",
    "\n",
    "# this is a function with multiple return types\n",
    "def add_one_and_square(x):\n",
    "    return x + 1, x*x\n",
    "\n",
    "# calling various functions\n",
    "simple_function()\n",
    "print(add(100, 1))\n",
    "print(add_one_and_square(3))"
   ]
  },
  {
   "cell_type": "markdown",
   "metadata": {},
   "source": [
    "## Basic datastructures\n",
    "\n",
    "There are three main types of datastructures in Python. This includes:\n",
    "\n",
    "1. `List`: Created using `[]`. These are used like arrays etc\n",
    "1. `Dictionary`: Created using `{}`. These are used to store data in form of key-value pairs\n",
    "1. `Tuples`: Created using `()`. These are used to store immutable data"
   ]
  },
  {
   "cell_type": "code",
   "execution_count": 14,
   "metadata": {},
   "outputs": [
    {
     "name": "stdout",
     "output_type": "stream",
     "text": [
      "['Sid', 'Maddy', 'Cathy']\n",
      "\n",
      "Our names has 3 elements\n",
      "---\n",
      "\n",
      "Sid\n",
      "Maddy\n",
      "Cathy\n",
      "---\n",
      "\n",
      "Sid is stored at 0 position\n",
      "Maddy is stored at 1 position\n",
      "Cathy is stored at 2 position\n",
      "---\n",
      "\n",
      "1\n",
      "Sid Shah\n",
      "Vile Parle\n"
     ]
    }
   ],
   "source": [
    "names = []\n",
    "names.append(\"Sid\")\n",
    "names.append(\"Maddy\")\n",
    "names.append(\"Cathy\")\n",
    "print(names)\n",
    "print(f\"\\nOur names has {len(names)} elements\")\n",
    "print(\"---\\n\")\n",
    "\n",
    "# this is how you iterate over lists\n",
    "for current_person in names:\n",
    "    print(current_person)\n",
    "\n",
    "print(\"---\\n\")\n",
    "\n",
    "# this is how you iterate with indicies\n",
    "for i, current_person in enumerate(names):\n",
    "    print(f\"{current_person} is stored at {i} position\")\n",
    "\n",
    "print(\"---\\n\")\n",
    "\n",
    "# you can have list of different data types\n",
    "employee_rec = [1, \"Sid Shah\", \"Vile Parle\"]\n",
    "for item in employee_rec:\n",
    "    print(item)"
   ]
  },
  {
   "cell_type": "code",
   "execution_count": 15,
   "metadata": {},
   "outputs": [
    {
     "name": "stdout",
     "output_type": "stream",
     "text": [
      "Sid -> Red\n",
      "Cathy -> Black\n",
      "{'Sid': [1, 'Sid Shah', 'Vile Parle']}\n"
     ]
    }
   ],
   "source": [
    "# you can have simple dictionary\n",
    "fav_colors = {}\n",
    "fav_colors[\"Sid\"] = \"Red\"\n",
    "fav_colors[\"Cathy\"] = \"Black\"\n",
    "\n",
    "# this is how you iterate over a dictionary\n",
    "for name, color in fav_colors.items():\n",
    "    print(f\"{name} -> {color}\")\n",
    "\n",
    "# this is now nested dictionaries work\n",
    "employee_info = {}\n",
    "employee_info[\"Sid\"] = employee_rec\n",
    "print(employee_info)"
   ]
  },
  {
   "cell_type": "code",
   "execution_count": 16,
   "metadata": {},
   "outputs": [
    {
     "name": "stdout",
     "output_type": "stream",
     "text": [
      "(12, 34.56)\n",
      "('abc', 'xyz')\n",
      "(12, 34.56, 'abc', 'xyz')\n"
     ]
    }
   ],
   "source": [
    "# tuples once assigned values cannot be changed\n",
    "tup1 = (12, 34.56)\n",
    "tup2 = ('abc', 'xyz')\n",
    "print(tup1)\n",
    "print(tup2)\n",
    "print(tup1 + tup2)"
   ]
  },
  {
   "cell_type": "markdown",
   "metadata": {},
   "source": [
    "## Loops & Conditional statements\n",
    "\n",
    "We will be covering:\n",
    "\n",
    "1. `if-else` blocks\n",
    "1. `if-elif-else` blocks\n",
    "1. `for` loops\n",
    "1. `while` loops\n",
    "1. `continue` and `break` statements"
   ]
  },
  {
   "cell_type": "code",
   "execution_count": 23,
   "metadata": {},
   "outputs": [
    {
     "name": "stdout",
     "output_type": "stream",
     "text": [
      "10 is indeed an even number\n",
      "---\n",
      "\n",
      "We're cool!\n",
      "---\n",
      "\n",
      "We can see you sid!\n",
      "---\n",
      "\n",
      "0\n",
      "1\n",
      "2\n",
      "3\n",
      "4\n",
      "5\n",
      "6\n",
      "7\n",
      "8\n",
      "9\n",
      "---\n",
      "\n",
      "1\n",
      "4\n",
      "7\n",
      "---\n",
      "\n",
      "10 times more to to\n",
      "9 times more to to\n",
      "8 times more to to\n",
      "7 times more to to\n",
      "6 times more to to\n",
      "5 times more to to\n",
      "4 times more to to\n",
      "3 times more to to\n",
      "2 times more to to\n",
      "1 times more to to\n",
      "---\n",
      "\n",
      "kaboom has been triggered\n"
     ]
    }
   ],
   "source": [
    "# this is how conditions are checked\n",
    "# you can use keywords like `and`, `or` and `not`\n",
    "\n",
    "n = 10\n",
    "if n%2 == 0:\n",
    "    print(f\"{n} is indeed an even number\")\n",
    "else:\n",
    "    print(f\"{n} is an odd number\")\n",
    "\n",
    "print(\"---\\n\")\n",
    "\n",
    "name = \"sid\"\n",
    "\n",
    "if n%2 == 0 and name == \"sid\":\n",
    "    print(\"We're cool!\")\n",
    "\n",
    "print(\"---\\n\")\n",
    "\n",
    "# this is no switch-case you use if-elif-else blocks\n",
    "if name == \"sid\":\n",
    "    print(\"We can see you sid!\")\n",
    "elif name == \"mady\":\n",
    "    print(\"Manan has joined the party\")\n",
    "else:\n",
    "    print(\"Sorry do I know you?\")\n",
    "\n",
    "print(\"---\\n\")\n",
    "\n",
    "# these are how loops are written\n",
    "for i in range(10):\n",
    "    print(i)\n",
    "\n",
    "print(\"---\\n\")\n",
    "\n",
    "# create a loop from start, end with **step**\n",
    "for i in range(1, 10, 3):\n",
    "    print(i)\n",
    "\n",
    "print(\"---\\n\")\n",
    "\n",
    "# this is how while loops work\n",
    "n = 10\n",
    "while n > 0:\n",
    "    print(f\"{n} times more to to\")\n",
    "    n -= 1\n",
    "print(\"---\\n\")\n",
    "\n",
    "# example of how `break` keyword has been used\n",
    "magic_word = \"kaboom\"\n",
    "possible_words = [\"yo\", \"no\", \"kaboom\", \"shazam\"]\n",
    "for current in possible_words:\n",
    "    if current == magic_word:\n",
    "        print(f\"{current} has been triggered\")\n",
    "        break\n"
   ]
  },
  {
   "cell_type": "markdown",
   "metadata": {},
   "source": [
    "## Simple File I/O"
   ]
  },
  {
   "cell_type": "code",
   "execution_count": 29,
   "metadata": {},
   "outputs": [
    {
     "name": "stdout",
     "output_type": "stream",
     "text": [
      "It is a long established fact that a reader will be distracted by the readable content of a page when looking at its layout. The point of using Lorem Ipsum is that it has a more-or-less normal distribution of letters, as opposed to using 'Content here, content here', making it look like readable English. Many desktop publishing packages and web page editors now use Lorem Ipsum as their default model text, and a search for 'lorem ipsum' will uncover many web sites still in their infancy. Various versions have evolved over the years, sometimes by accident, sometimes on purpose (injected humour and the like).\n",
      "\n",
      "this is second line\n",
      "\n",
      "---\n",
      "\n",
      "0 -> It is a long established fact that a reader will be distracted by the readable content of a page when looking at its layout. The point of using Lorem Ipsum is that it has a more-or-less normal distribution of letters, as opposed to using 'Content here, content here', making it look like readable English. Many desktop publishing packages and web page editors now use Lorem Ipsum as their default model text, and a search for 'lorem ipsum' will uncover many web sites still in their infancy. Various versions have evolved over the years, sometimes by accident, sometimes on purpose (injected humour and the like).\n",
      "\n",
      "1 -> \n",
      "\n",
      "2 -> this is second line\n",
      "\n",
      "Completed saving file to sample_out.txt\n"
     ]
    }
   ],
   "source": [
    "# simple way to read file\n",
    "file_to_read = open(\"sample.txt\")\n",
    "print(file_to_read.read())\n",
    "print(\"---\\n\")\n",
    "\n",
    "# reading file with help of context manager\n",
    "with open(\"sample.txt\") as file_to_read:\n",
    "    for i, current_line in enumerate(file_to_read.readlines()):\n",
    "        print(f\"{i} -> {current_line}\")\n",
    "\n",
    "# this is how you write data to a file\n",
    "with open(\"sample_out.txt\", \"w\") as file_to_write:\n",
    "    for i in range(1, 11):\n",
    "        line_to_write = f\"this is sample line no {i}\\n\"\n",
    "        file_to_write.write(line_to_write)\n",
    "print(\"Completed saving file to sample_out.txt\")"
   ]
  },
  {
   "cell_type": "markdown",
   "metadata": {},
   "source": [
    "## Core modules os, sys and collections\n",
    "\n",
    "### [os](https://docs.python.org/3.6/library/os.html) module is used for performing os related operations include:\n",
    "\n",
    "1. Iterating over a directory {also know as `walking` operation}\n",
    "1. Checking if a directory exists, create one if not exists"
   ]
  },
  {
   "cell_type": "code",
   "execution_count": 30,
   "metadata": {},
   "outputs": [
    {
     "name": "stdout",
     "output_type": "stream",
     "text": [
      "sample.txt~\n",
      "{A relatively modern} Crash Course in Python.ipynb\n",
      "sample_out.txt\n",
      ".ipynb_checkpoints\n",
      "sample.txt\n"
     ]
    }
   ],
   "source": [
    "import os\n",
    "\n",
    "# this is how we list all files in current directory\n",
    "for item in os.listdir(\".\"):\n",
    "    print(item)"
   ]
  },
  {
   "cell_type": "markdown",
   "metadata": {},
   "source": [
    "### [sys](https://docs.python.org/3.6/library/sys.html) module is used for performing system related calls, e.g. include:\n",
    "\n",
    "1. E.g. exiting program execution in case of errors/exceptions\n",
    "1. Iterating over command line arguments"
   ]
  },
  {
   "cell_type": "code",
   "execution_count": 33,
   "metadata": {},
   "outputs": [
    {
     "name": "stdout",
     "output_type": "stream",
     "text": [
      "Max integer value for python's int is 9223372036854775807\n"
     ]
    }
   ],
   "source": [
    "import sys\n",
    "print(f\"Max integer value for python's int is {sys.maxsize}\")"
   ]
  },
  {
   "cell_type": "markdown",
   "metadata": {},
   "source": [
    "### [collections](https://docs.python.org/3.6/library/collections.html) contains containers which complement standard datastructures like lists, dictionaries and tuples. Some of the examples include:\n",
    "\n",
    "1. `defaultdicts` - which allows us to update KV pairs with default values\n",
    "1. `namedtuple` - allow us to create a tuple which give meaningful name to positions\n",
    "\n",
    "Let say we want to count word frequency in out file `sample_out.txt` lets compare before and after implementations"
   ]
  },
  {
   "cell_type": "code",
   "execution_count": 39,
   "metadata": {},
   "outputs": [
    {
     "name": "stdout",
     "output_type": "stream",
     "text": [
      "{'this': 10, 'is': 10, 'sample': 10, 'line': 10, 'no': 10, '1': 1, '2': 1, '3': 1, '4': 1, '5': 1, '6': 1, '7': 1, '8': 1, '9': 1, '10': 1}\n"
     ]
    }
   ],
   "source": [
    "counts = {}\n",
    "\n",
    "with open(\"sample_out.txt\") as file_to_read:\n",
    "    for current_line in file_to_read.readlines():\n",
    "        current_line = current_line.strip()\n",
    "        for token in current_line.split():\n",
    "            token = token.lower()\n",
    "            if token not in counts:\n",
    "                counts[token] = 0\n",
    "            counts[token] += 1\n",
    "\n",
    "print(counts)"
   ]
  },
  {
   "cell_type": "code",
   "execution_count": 38,
   "metadata": {
    "scrolled": true
   },
   "outputs": [
    {
     "name": "stdout",
     "output_type": "stream",
     "text": [
      "defaultdict(<class 'int'>, {'this': 10, 'is': 10, 'sample': 10, 'line': 10, 'no': 10, '1': 1, '2': 1, '3': 1, '4': 1, '5': 1, '6': 1, '7': 1, '8': 1, '9': 1, '10': 1})\n"
     ]
    }
   ],
   "source": [
    "# the above can be re-written into\n",
    "# following which is both peformant and clean\n",
    "\n",
    "from collections import defaultdict\n",
    "counts = defaultdict(int)\n",
    "\n",
    "with open(\"sample_out.txt\") as file_to_read:\n",
    "    for current_line in file_to_read.readlines():\n",
    "        current_line = current_line.strip()\n",
    "        for token in current_line.split():\n",
    "            counts[token] += 1\n",
    "\n",
    "print(counts)"
   ]
  },
  {
   "cell_type": "markdown",
   "metadata": {},
   "source": [
    "## Object Oriented Programming Basics\n",
    "\n",
    "We will be convering following:\n",
    "\n",
    "1. Creating classes\n",
    "1. Inheritance\n"
   ]
  },
  {
   "cell_type": "code",
   "execution_count": 44,
   "metadata": {},
   "outputs": [
    {
     "name": "stdout",
     "output_type": "stream",
     "text": [
      "Shah in your account you have $100\n",
      "Sorry you don't have sufficient balance. Current amount $100 is available\n",
      "You now have $75 in you account\n",
      "Shah in your account you have $75\n"
     ]
    }
   ],
   "source": [
    "class Account:\n",
    "    account_number = 0\n",
    "    last_name = \"\"\n",
    "    first_name = \"\"\n",
    "    address = \"\"\n",
    "    profession = \"\"\n",
    "    balance = 100\n",
    "    \n",
    "    # this is the initializer, there are no constructors\n",
    "    # read more on: https://www.javatpoint.com/python-constructors\n",
    "    def __init__(self, account_number, last_name, first_name, address, profession):\n",
    "        self.account_number = account_number\n",
    "        self.last_name = last_name\n",
    "        self.first_name = first_name\n",
    "        self.address = address\n",
    "        self.profession = profession\n",
    "        \n",
    "        # Make sure all accounts are initialized with this balance\n",
    "        self.balance = 100\n",
    "    \n",
    "    def check_balance(self):\n",
    "        print(f\"{self.last_name} in your account you have ${self.balance}\")\n",
    "    \n",
    "    def withdraw_cash(self, amount):\n",
    "        if self.balance > amount:\n",
    "            self.balance -= amount\n",
    "            print(f\"You now have ${self.balance} in you account\")\n",
    "        else:\n",
    "            print(f\"Sorry you don't have sufficient balance. Current amount ${self.balance} is available\")\n",
    "\n",
    "my_ac = Account(123, \"Shah\", \"Sid\", \"Vile Parle(W), Mumbai\", \"CEO & Founder\")\n",
    "my_ac.check_balance()\n",
    "my_ac.withdraw_cash(102)\n",
    "my_ac.withdraw_cash(25)\n",
    "my_ac.check_balance()\n",
    "    "
   ]
  },
  {
   "cell_type": "code",
   "execution_count": 43,
   "metadata": {},
   "outputs": [
    {
     "name": "stdout",
     "output_type": "stream",
     "text": [
      "Shah in your account you have $100\n",
      "If you keep this amount in the bank for next 12 months, you will get $107.0 with interest @7.0 PA\n",
      "You now have $75 in you account\n",
      "Shah in your account you have $75\n",
      "If you keep this amount in the bank for next 12 months, you will get $80.25 with interest @7.0 PA\n"
     ]
    }
   ],
   "source": [
    "class SavingAccount(Account):\n",
    "    interest_rate = float(7)\n",
    "    \n",
    "    def check_balance(self):\n",
    "        print(f\"{self.last_name} in your account you have ${self.balance}\")\n",
    "        possible_amount = self.balance + (self.balance * (self.interest_rate / float(100)))\n",
    "        print(f\"If you keep this amount in the bank for next 12 months, you will get ${possible_amount} with interest @{self.interest_rate} PA\")\n",
    "    \n",
    "my_saving_ac = SavingAccount(123, \"Shah\", \"Sid\", \"Vile Parle(W), Mumbai\", \"CEO & Founder\")\n",
    "my_saving_ac.check_balance()\n",
    "my_saving_ac.withdraw_cash(25)\n",
    "my_saving_ac.check_balance()"
   ]
  },
  {
   "cell_type": "markdown",
   "metadata": {},
   "source": [
    "## Working with dates and times\n",
    "\n",
    "[datetime](https://docs.python.org/3/library/datetime.html) and [time](https://docs.python.org/3/library/time.html) are both interesting modules to work with datetime in python."
   ]
  },
  {
   "cell_type": "code",
   "execution_count": 46,
   "metadata": {},
   "outputs": [
    {
     "name": "stdout",
     "output_type": "stream",
     "text": [
      "Today we're at 2018-04-22 14:47:10.458017\n"
     ]
    }
   ],
   "source": [
    "from datetime import datetime\n",
    "print(f\"Today we're at {datetime.now()}\")"
   ]
  },
  {
   "cell_type": "code",
   "execution_count": 48,
   "metadata": {},
   "outputs": [
    {
     "name": "stdout",
     "output_type": "stream",
     "text": [
      "Yesterday was 2018-04-21\n"
     ]
    }
   ],
   "source": [
    "from datetime import datetime, timedelta\n",
    "yesterday = timedelta(days=1)\n",
    "print(f\"Yesterday was {(datetime.now() - yesterday).date()}\")"
   ]
  },
  {
   "cell_type": "code",
   "execution_count": 49,
   "metadata": {},
   "outputs": [
    {
     "data": {
      "text/plain": [
       "'Sun, 22 Apr 2018 09:19:07 +0000'"
      ]
     },
     "execution_count": 49,
     "metadata": {},
     "output_type": "execute_result"
    }
   ],
   "source": [
    "from time import gmtime, strftime\n",
    "strftime(\"%a, %d %b %Y %H:%M:%S +0000\", gmtime())"
   ]
  },
  {
   "cell_type": "markdown",
   "metadata": {},
   "source": [
    "## Regular expressions using `re` module\n",
    "\n",
    "[re](https://docs.python.org/3/library/re.html) is Python's [Regular Expression](https://en.wikipedia.org/wiki/Regular_expression) module. There is already a presentation [here](https://raw.githubusercontent.com/fafadiatech/ft-learnings/master/presentations/internal_trainings/python/regex.html). Download the html file and run in the browser. \n",
    "\n",
    "Few use-cases where they are useful:\n",
    "\n",
    "1. Validation Rules {E.g. Emails, Phone, Addresses}\n",
    "1. Scraping {E.g. Extracting Prices, Text Snippets etc}\n",
    "1. Translation {E.g. Replacing a piece of text with another}\n",
    "1. Parsing Logs {E.g. Parsing Apache and Nginx logs}"
   ]
  },
  {
   "cell_type": "code",
   "execution_count": 51,
   "metadata": {},
   "outputs": [
    {
     "name": "stdout",
     "output_type": "stream",
     "text": [
      "PEACH\n",
      "PINCH\n",
      "punch\n"
     ]
    }
   ],
   "source": [
    "# example of how we can find things with regular expression\n",
    "\n",
    "import re\n",
    "\n",
    "text_snippet = \"there was a PEACH who PINCH, in return punch were flying around\"\n",
    "\n",
    "# re.compile compiles regex into an objects\n",
    "# this makes it easier to work with regex\n",
    "# re.IGNORECASE is a flag, you can have multiple such flags\n",
    "pch_regex = re.compile(r\"p.{1,3}ch\", re.IGNORECASE)\n",
    "\n",
    "for current_match in pch_regex.findall(text_snippet):\n",
    "    print(current_match)"
   ]
  },
  {
   "cell_type": "code",
   "execution_count": 53,
   "metadata": {},
   "outputs": [
    {
     "name": "stdout",
     "output_type": "stream",
     "text": [
      "True\n",
      "False\n"
     ]
    }
   ],
   "source": [
    "# example of how we can validate with regular expression\n",
    "import re\n",
    "\n",
    "def validate_email(current_email):\n",
    "    \"\"\"\n",
    "    check if email is valid\n",
    "    \"\"\"\n",
    "    email_re = re.compile(r\"\\w+\\@\\w+\\.(com|co\\.in)\", re.IGNORECASE)\n",
    "    # .search() method is used to TEST if regex matches at all\n",
    "    return email_re.search(current_email) is not None\n",
    "\n",
    "print(validate_email(\"iamsidd@gmail.com\"))\n",
    "print(validate_email(\"iamsidd@.co\"))"
   ]
  },
  {
   "cell_type": "code",
   "execution_count": 55,
   "metadata": {},
   "outputs": [
    {
     "name": "stdout",
     "output_type": "stream",
     "text": [
      "Starts at:12, Ends at:17\n",
      "Starts at:22, Ends at:27\n",
      "Starts at:39, Ends at:44\n"
     ]
    }
   ],
   "source": [
    "# example of how we can find indicies of things with regular expression\n",
    "\n",
    "import re\n",
    "\n",
    "text_snippet = \"there was a PEACH who PINCH, in return punch were flying around\"\n",
    "pch_regex = re.compile(r\"p.{1,3}ch\", re.IGNORECASE)\n",
    "\n",
    "for current_match in pch_regex.finditer(text_snippet):\n",
    "    print(\"Starts at:%d, Ends at:%d\" % (current_match.start(), current_match.end()))"
   ]
  },
  {
   "cell_type": "code",
   "execution_count": 57,
   "metadata": {},
   "outputs": [
    {
     "name": "stdout",
     "output_type": "stream",
     "text": [
      "there was a _ who _, in return _ were flying around\n"
     ]
    }
   ],
   "source": [
    "# example of how we can replace things with regular expression\n",
    "import re\n",
    "\n",
    "text_snippet = \"there was a PEACH who PINCH, in return punch were flying around\"\n",
    "pch_regex = re.compile(r\"p.{1,3}ch\", re.IGNORECASE)\n",
    "text_snippet_translated = re.sub(pch_regex, \"_\", text_snippet)\n",
    "print(text_snippet_translated)"
   ]
  },
  {
   "cell_type": "markdown",
   "metadata": {},
   "source": [
    "## Unit testing with [unittest](https://docs.python.org/3.6/library/unittest.html) module\n",
    "\n",
    "[Unit testing](https://en.wikipedia.org/wiki/Unit_testing) allow you to check functionality of code in isoliation. Few things to remember while doing unit testing:\n",
    "\n",
    "1. Test for both **positive** and **negative** test cases\n",
    "1. **Don't assume any sequence** of order in terms of execution\n",
    "1. Use one `assert` statement per test\n",
    "1. `setUp` and `tearDown` function to be used for any dependencies that we might want to have executed before or after test"
   ]
  },
  {
   "cell_type": "code",
   "execution_count": 60,
   "metadata": {},
   "outputs": [
    {
     "name": "stderr",
     "output_type": "stream",
     "text": [
      "E\n",
      "======================================================================\n",
      "ERROR: /Users/sidharthshah/Library/Jupyter/runtime/kernel-6fd703e8-9c08-4e7a-9824-dff7f756313d (unittest.loader._FailedTest)\n",
      "----------------------------------------------------------------------\n",
      "AttributeError: module '__main__' has no attribute '/Users/sidharthshah/Library/Jupyter/runtime/kernel-6fd703e8-9c08-4e7a-9824-dff7f756313d'\n",
      "\n",
      "----------------------------------------------------------------------\n",
      "Ran 1 test in 0.001s\n",
      "\n",
      "FAILED (errors=1)\n"
     ]
    },
    {
     "ename": "SystemExit",
     "evalue": "True",
     "output_type": "error",
     "traceback": [
      "An exception has occurred, use %tb to see the full traceback.\n",
      "\u001b[0;31mSystemExit\u001b[0m\u001b[0;31m:\u001b[0m True\n"
     ]
    },
    {
     "name": "stderr",
     "output_type": "stream",
     "text": [
      "/Users/sidharthshah/Installs/env/training/lib/python3.6/site-packages/IPython/core/interactiveshell.py:2971: UserWarning: To exit: use 'exit', 'quit', or Ctrl-D.\n",
      "  warn(\"To exit: use 'exit', 'quit', or Ctrl-D.\", stacklevel=1)\n"
     ]
    }
   ],
   "source": [
    "import unittest\n",
    "\n",
    "def add(a, b):\n",
    "    return a + b\n",
    "\n",
    "def mul(a, b):\n",
    "    return a * b\n",
    "\n",
    "class TestCalc(unittest.TestCase):\n",
    "    \n",
    "    def test_add(self):\n",
    "        assert add(1, 100) == 101\n",
    "    \n",
    "    def test_mul(self):\n",
    "        assert mul(1, 100) == 100\n",
    "\n",
    "unittest.main()\n",
    "    "
   ]
  }
 ],
 "metadata": {
  "kernelspec": {
   "display_name": "Python 3",
   "language": "python",
   "name": "python3"
  },
  "language_info": {
   "codemirror_mode": {
    "name": "ipython",
    "version": 3
   },
   "file_extension": ".py",
   "mimetype": "text/x-python",
   "name": "python",
   "nbconvert_exporter": "python",
   "pygments_lexer": "ipython3",
   "version": "3.6.3"
  }
 },
 "nbformat": 4,
 "nbformat_minor": 2
}
