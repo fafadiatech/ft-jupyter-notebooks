{
 "cells": [
  {
   "cell_type": "markdown",
   "metadata": {},
   "source": [
    "# Object Oriented Programming with Python\n",
    "\n",
    "Lets look at what Wikipedia has to say about [Object Oriented Programming](https://en.wikipedia.org/wiki/Object-oriented_programming)\n",
    "\n",
    "```\n",
    "Object-oriented programming (OOP) is a programming paradigm based on the concept of \"objects\", which may contain data, in the form of fields, often known as attributes; and code, in the form of procedures, often known as methods. A feature of objects is that an object's procedures can access and often modify the data fields of the object with which they are associated (objects have a notion of \"this\" or \"self\"). In OOP, computer programs are designed by making them out of objects that interact with one another\n",
    "```\n",
    "\n",
    "They essentially allow you to write **[DRY](https://en.wikipedia.org/wiki/Don%27t_repeat_yourself) code.**\n",
    "\n",
    "## Two main ingredients for Object Oriented Programming:\n",
    "\n",
    "1. Data {aka State or Property}\n",
    "1. Methods {procedures that change this Data}\n",
    "\n",
    "## Important Definitions\n",
    "\n",
    "1. Class: This is an extensible program-code template for creating objects, providing initial value for state and implemtnation of behavious. \n",
    "1. Instance/Object: Concrete occurance of the a `Class`\n",
    "\n",
    "\n",
    "## Key Concepts in OOPs:\n",
    "\n",
    "1. Abstraction: `Abstract` means idea or concept not associated with particular instance. A class should not know the inner details, instead it should know about **interfaces** \n",
    "1. Encapsulation: Implies keeping Data and Functions safe from outside interference. This is also reffered to as data hiding \n",
    "1. Inheritance: These allows us to re-use code by means of `inheriting` properties and method from an existing class. There are couple of ways this can be done via `is-a` relationship or `has-a` relationship. The latter one is also called `Composition` which is a good practices.\n",
    "1. Polymorphism: `Polymorphism` implies taking more than one form -- it implies ability to process objects of different types\n",
    "\n",
    "Lets look at an examples. We're implementing a simple program that can:\n",
    "\n",
    "1. Accept Deposit of Cash\n",
    "1. Enquiry available balance\n",
    "1. In case of Savings account it will show potential earnings\n",
    "\n",
    "### NOTE: Use best tool for the job, you can get away without writing classes. Look at this talk on [YouTube:  Stop writing Casses](https://www.youtube.com/watch?v=o9pEzgHorH0) \n"
   ]
  },
  {
   "cell_type": "code",
   "execution_count": 4,
   "metadata": {},
   "outputs": [
    {
     "name": "stdout",
     "output_type": "stream",
     "text": [
      "Hello Shah, you have $2000 balanced in you account\n",
      "Hello Shah, you have $1900 balanced in you account\n",
      "Hello Shah, you have $2400 balanced in you account\n",
      "(datetime.datetime(2018, 4, 23, 8, 53, 50, 167826), 'Balance Enquiry')\n",
      "(datetime.datetime(2018, 4, 23, 8, 53, 50, 167764), 'Deposit of $500 into your account')\n",
      "(datetime.datetime(2018, 4, 23, 8, 53, 50, 167707), 'Balance Enquiry')\n",
      "(datetime.datetime(2018, 4, 23, 8, 53, 50, 167567), 'Withdrawal of $100 from your account')\n",
      "(datetime.datetime(2018, 4, 23, 8, 53, 50, 167499), 'Balance Enquiry')\n"
     ]
    }
   ],
   "source": [
    "# We will create an Account class \n",
    "from datetime import datetime\n",
    "\n",
    "class Account:\n",
    "    account_id = 0\n",
    "    \n",
    "    # details about owner of the account\n",
    "    first_name = \"\"\n",
    "    last_name = \"\"\n",
    "    \n",
    "    # minimum balance that needs to start account\n",
    "    balance = float(100)\n",
    "    \n",
    "    # this will keep ledger of all transactions\n",
    "    transactions = []\n",
    "    \n",
    "    def __init__(self, account_id, first_name, last_name, initial_balance=100):\n",
    "        \"\"\"\n",
    "        this is the initializer, there are no constructors\n",
    "        \"\"\"\n",
    "        self.account_id = account_id\n",
    "        self.first_name = first_name\n",
    "        self.last_name = last_name\n",
    "        self.balance = initial_balance\n",
    "    \n",
    "    def _update_ledger(self, action, amount=None):\n",
    "        ts = datetime.now()\n",
    "        if action == \"enquire\":\n",
    "            self.transactions.append((ts, \"Balance Enquiry\"))\n",
    "        elif action == \"deposit\":\n",
    "            entry = f\"Deposit of ${amount} into your account\"\n",
    "            self.transactions.append((ts, entry))\n",
    "        else:\n",
    "            entry = f\"Withdrawal of ${amount} from your account\"\n",
    "            self.transactions.append((ts, entry))\n",
    "\n",
    "    def enquire(self):\n",
    "        \"\"\"\n",
    "        this is used to tell user how much they have left in their A/C\n",
    "        \"\"\"\n",
    "        print(f\"Hello {self.last_name}, you have ${self.balance} balanced in you account\")\n",
    "        self._update_ledger(\"enquire\")\n",
    "    \n",
    "    def deposit(self, deposit_amount):\n",
    "        self.balance += deposit_amount\n",
    "        self._update_ledger(\"deposit\", deposit_amount)\n",
    "\n",
    "    def withdraw(self, intended_amount):\n",
    "        if self.balance > intended_amount:\n",
    "            self.balance -= intended_amount\n",
    "            self._update_ledger(\"withdraw\", intended_amount)\n",
    "        else:\n",
    "            print(\"You have insufficient funds\")\n",
    "\n",
    "    def last_transactions(self, MAX=5):\n",
    "        \"\"\"\n",
    "        show summary of transactions\n",
    "        \"\"\"\n",
    "        # create copy of reversed list of transactions\n",
    "        latest_transactions = self.transactions[::-1]\n",
    "        for i in range(min(MAX, len(latest_transactions))):\n",
    "            print(latest_transactions[i])\n",
    "    \n",
    "\n",
    "checking_ac = Account(2745, \"Sid\", \"Shah\", 2000)\n",
    "checking_ac.enquire()\n",
    "checking_ac.withdraw(100)\n",
    "checking_ac.enquire()\n",
    "checking_ac.deposit(500)\n",
    "checking_ac.enquire()\n",
    "checking_ac.last_transactions()"
   ]
  },
  {
   "cell_type": "markdown",
   "metadata": {},
   "source": [
    "Few things to notice in the code above:\n",
    "\n",
    "1. `__init__` is the initializer and note constructor. Next section talks about having multiple constructors\n",
    "1. There are **no access specifiers** in Python that enforce difference between `private` and `public`. By convention anything that begins with `_` {underscore} is private. E.g. `_update_ledger` function\n",
    "1. `self` keywords is self-referential keyword it is similar to `this` keyword in other languages\n",
    "1. There is no `new` keyword required to create an object, just an assignment operation should do it \n",
    "1. Look at how we've passed default arguments E.g. `amount=None`\n",
    "1. For all your methods you will need to pass `self` as first argument by default\n"
   ]
  },
  {
   "cell_type": "markdown",
   "metadata": {},
   "source": [
    "## How to design classes? \n",
    "\n",
    "### Cracking the Coding Interview Approach:\n",
    "\n",
    "[Ref Ch 7](https://www.amazon.in/Cracking-Coding-Interview-Programing-Questions/dp/0984782850) of Cracking the Coding Interview book\n",
    "\n",
    "1. Define the **goal**? -- What are we trying to achieve\n",
    "1. What are the **core objects**?\n",
    "1. Have you **missed out anything**?\n",
    "1. Get a **little deeper**, what will the methods look like?\n",
    "\n",
    "### Class Responsibility Collaborators Appraoch\n",
    "\n",
    "Idea is simple to use Index Cards to build hierarchies of classes. Sections of CRC index cards looks like following\n",
    "\n",
    "![Sections on CRC Card](./images/crc-index-card.png \"Sections on CRC Card\")\n",
    "\n",
    "1. `Class` refers to class name that is under design\n",
    "1. `Responsibilities` implies at high level what does the class do\n",
    "1. `Collaborators` mean set of other classes that will work with current class {E.g. Dependencies, Sub-class/Super-classes etc}\n",
    "\n",
    "![Sample CRC Card](./images/crc-example.png \"Sample CRC Card\")\n",
    "\n",
    "#### Reference\n",
    "\n",
    "1. [Class Responsibility Collaborator (CRC) Models: An Agile Introduction](http://www.agilemodeling.com/artifacts/crcModel.htm)\n",
    "1. [Wikipedia: Class-responsibility-collaboration card](https://en.wikipedia.org/wiki/Class-responsibility-collaboration_card)\n",
    "\n",
    "### UML: Class Diagram\n",
    "\n",
    "UML stands for Uniform Modelling Language. [Class Diagram](https://en.wikipedia.org/wiki/Class_diagram) is a visual way of representing classes and their relationship. [Read more](https://www.lucidchart.com/pages/uml-class-diagram) on this tutorial to get deeper grasp of class diagram. A class diagram looks something like below\n",
    "\n",
    "![Sample Class Diagram](./images/uml-class-diagram.png \"Sample Class Diagram\")\n",
    "\n",
    "This is how to read:\n",
    "\n",
    "1. Each block is divided into three sections: {Class Name, Properties and Methods}\n",
    "1. `+` in front specifies it is `public`\n",
    "1. Relationships are specified between edges of classes E.g. `+1` implies one `+0..*` implies zero or more\n",
    "\n",
    "**PRO TIP: You can also generate Class digrams [using markdown](http://mdp.tylingsoft.com/)**"
   ]
  },
  {
   "cell_type": "markdown",
   "metadata": {},
   "source": [
    "## Some practice problems\n",
    "\n",
    "1. Design a food odering application\n",
    "1. Design a chat application\n",
    "1. Design a musical juke box using object oriented principles\n",
    "1. Design a chess game using object oriented principles\n",
    "1. Design the data structures for an online book reader system\n"
   ]
  },
  {
   "cell_type": "markdown",
   "metadata": {},
   "source": [
    "## Dealing with multiple constructors in Python\n",
    "\n",
    "[`*args` and `**kwargs` in python explained](https://pythontips.com/2013/08/04/args-and-kwargs-in-python-explained/) is a writeup that explain in more detail on writing functions/method with multiple arguments {not-decided ahead of time}. Lets look at an example of how this can be used with class"
   ]
  },
  {
   "cell_type": "code",
   "execution_count": 2,
   "metadata": {},
   "outputs": [
    {
     "name": "stdout",
     "output_type": "stream",
     "text": [
      "Initializing with 1\n",
      "Initializing with 2\n",
      "Initializing with 3\n",
      "Initializing with 4\n"
     ]
    }
   ],
   "source": [
    "class Foo:\n",
    "    def __init__(self, *args):\n",
    "        for item in args:\n",
    "            print(f\"Initializing with {item}\")\n",
    "\n",
    "bar = Foo(1, 2, 3, 4)"
   ]
  },
  {
   "cell_type": "markdown",
   "metadata": {},
   "source": [
    "## Inheritance\n",
    "\n",
    "Inheriting a class in Python is real simple. Lets look at the following example"
   ]
  },
  {
   "cell_type": "code",
   "execution_count": 3,
   "metadata": {},
   "outputs": [
    {
     "name": "stdout",
     "output_type": "stream",
     "text": [
      "Hello from Foo -- the parent class\n",
      "Hello from Bar -- the child class\n",
      "This is exclusive to Bar only!\n"
     ]
    }
   ],
   "source": [
    "class Foo:\n",
    "    def simple_method(self):\n",
    "        print(\"Hello from simple_method\")\n",
    "\n",
    "    def say_something(self):\n",
    "        print(\"Hello from Foo -- the parent class\")\n",
    "\n",
    "class Bar(Foo):\n",
    "    def say_something(self):\n",
    "        \"\"\"\n",
    "        this is how we're overriding a method\n",
    "        that is belonging to parent class\n",
    "        \"\"\"\n",
    "        print(\"Hello from Bar -- the child class\")\n",
    "\n",
    "    def say_something_special(self):\n",
    "        \"\"\"\n",
    "        this is how we're overriding a method\n",
    "        that is belonging to parent class\n",
    "        \"\"\"\n",
    "        print(\"This is exclusive to Bar only!\")\n",
    "    \n",
    "x = Foo()\n",
    "x.say_something()\n",
    "\n",
    "y = Bar()\n",
    "y.say_something()\n",
    "y.say_something_special()"
   ]
  },
  {
   "cell_type": "markdown",
   "metadata": {},
   "source": [
    "## Composition vs Inheritance\n",
    "\n",
    "[Composition](https://en.wikipedia.org/wiki/Composition_over_inheritance) technique in OOP prefer `has-a` relationship as opposed to `is-a` relationship. Here is a [pythonic example](http://blog.thedigitalcatonline.com/blog/2014/08/20/python-3-oop-part-3-delegation-composition-and-inheritance/). The above code would be refactored to following"
   ]
  },
  {
   "cell_type": "code",
   "execution_count": 5,
   "metadata": {},
   "outputs": [
    {
     "name": "stdout",
     "output_type": "stream",
     "text": [
      "Hello from Foo -- the parent class\n",
      "Hello from Bar -- the child class\n",
      "This is exclusive to Bar only!\n",
      "Hello from Foo -- the parent class\n"
     ]
    }
   ],
   "source": [
    "class Foo:\n",
    "    def simple_method(self):\n",
    "        print(\"Hello from simple_method\")\n",
    "\n",
    "    def say_something(self):\n",
    "        print(\"Hello from Foo -- the parent class\")\n",
    "\n",
    "class Bar:\n",
    "    x = None\n",
    "    def __init__(self):\n",
    "        self.x = Foo()\n",
    "    \n",
    "    def parent_say_something(self):\n",
    "        self.x.say_something()\n",
    "\n",
    "    def say_something(self):\n",
    "        \"\"\"\n",
    "        this is how we're overriding a method\n",
    "        that is belonging to parent class\n",
    "        \"\"\"\n",
    "        print(\"Hello from Bar -- the child class\")\n",
    "\n",
    "    def say_something_special(self):\n",
    "        \"\"\"\n",
    "        this is how we're overriding a method\n",
    "        that is belonging to parent class\n",
    "        \"\"\"\n",
    "        print(\"This is exclusive to Bar only!\")\n",
    "    \n",
    "x = Foo()\n",
    "x.say_something()\n",
    "\n",
    "y = Bar()\n",
    "y.say_something()\n",
    "y.say_something_special()\n",
    "y.parent_say_something()"
   ]
  },
  {
   "cell_type": "markdown",
   "metadata": {},
   "source": [
    "## Inversion of Control {aka Dependency Injection}\n",
    "\n",
    "One of the tips that I've found to make my code more modular is using Inversion of control. Quoting [Wikipedia](https://en.wikipedia.org/wiki/Inversion_of_control)\n",
    "\n",
    "```\n",
    "Inversion of control is used to increase modularity of the program and make it extensible,[1] and has applications in object-oriented programming and other programming paradigms. The term was used by Michael Mattsson in a thesis[2], taken from there[3] by Stefano Mazzocchi and popularized by him in 1999 in a now-defunct Apache Software Foundation project Avalon, then further popularized in 2004 by Robert C. Martin and Martin Fowler.\n",
    "```\n",
    "\n",
    "Its one of the methods in [SOLID](http://williamdurand.fr/2013/07/30/from-stupid-to-solid-code/). Taking inspiration from [this example](http://python-dependency-injector.ets-labs.org/introduction/di_in_python.html):\n",
    "\n",
    "![DI Before](./images/di-before.png \"DI Before\")\n",
    "\n",
    "1. Lets say you have a Car object {which depends on Engine object}\n",
    "1. Insted of instantiating `Engine` object in `Car` we will **pass Engine's instance in initializer**\n",
    "\n",
    "![DI After](./images/di-after.png \"DI After\")\n",
    "\n",
    "Why this is useful is because it will allow us to test `Engine` class in isolation."
   ]
  }
 ],
 "metadata": {
  "kernelspec": {
   "display_name": "Python 3",
   "language": "python",
   "name": "python3"
  },
  "language_info": {
   "codemirror_mode": {
    "name": "ipython",
    "version": 3
   },
   "file_extension": ".py",
   "mimetype": "text/x-python",
   "name": "python",
   "nbconvert_exporter": "python",
   "pygments_lexer": "ipython3",
   "version": "3.6.3"
  }
 },
 "nbformat": 4,
 "nbformat_minor": 2
}
